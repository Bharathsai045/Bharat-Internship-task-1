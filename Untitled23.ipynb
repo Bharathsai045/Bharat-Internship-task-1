{
  "nbformat": 4,
  "nbformat_minor": 0,
  "metadata": {
    "colab": {
      "provenance": [],
      "authorship_tag": "ABX9TyP7CTzMUZhPNr9prA0dS+UF",
      "include_colab_link": true
    },
    "kernelspec": {
      "name": "python3",
      "display_name": "Python 3"
    },
    "language_info": {
      "name": "python"
    }
  },
  "cells": [
    {
      "cell_type": "markdown",
      "metadata": {
        "id": "view-in-github",
        "colab_type": "text"
      },
      "source": [
        "<a href=\"https://colab.research.google.com/github/Bharathsai045/Bharat-Internship-task-1/blob/main/Untitled23.ipynb\" target=\"_parent\"><img src=\"https://colab.research.google.com/assets/colab-badge.svg\" alt=\"Open In Colab\"/></a>"
      ]
    },
    {
      "cell_type": "code",
      "execution_count": 1,
      "metadata": {
        "id": "Dy8ABKfQKiJI"
      },
      "outputs": [],
      "source": [
        "import os\n",
        "import numpy as np\n",
        "import pandas as pd\n",
        "import matplotlib.pyplot as plt\n",
        "from keras.models import Sequential\n",
        "from keras.layers import Dense\n",
        "from keras.layers import LSTM\n",
        "from keras.layers import Dropout\n",
        "from sklearn.preprocessing import MinMaxScaler\n"
      ]
    },
    {
      "cell_type": "code",
      "source": [
        "dataset=pd.read_csv('NFLX.csv')"
      ],
      "metadata": {
        "id": "-gOMwBuRK50D"
      },
      "execution_count": 2,
      "outputs": []
    },
    {
      "cell_type": "code",
      "source": [
        "\n",
        "dataset_train=dataset.iloc[-1000:-100]\n",
        "dataset_test=dataset.iloc[-100:]\n",
        "print(dataset_train.columns.tolist())\n",
        "print(dataset_test.columns.tolist())\n"
      ],
      "metadata": {
        "colab": {
          "base_uri": "https://localhost:8080/"
        },
        "id": "mDvt-E4NK8zw",
        "outputId": "b6e9a42a-258e-417e-afcf-56b6a0c8b943"
      },
      "execution_count": 3,
      "outputs": [
        {
          "output_type": "stream",
          "name": "stdout",
          "text": [
            "['Date', 'Open', 'High', 'Low', 'Close', 'Adj Close', 'Volume']\n",
            "['Date', 'Open', 'High', 'Low', 'Close', 'Adj Close', 'Volume']\n"
          ]
        }
      ]
    },
    {
      "cell_type": "code",
      "source": [
        "trainset = dataset_train.iloc[:,1:2].values #Open\n",
        "display(trainset[0:5])\n",
        ""
      ],
      "metadata": {
        "colab": {
          "base_uri": "https://localhost:8080/",
          "height": 104
        },
        "id": "V1aM9IUpLADs",
        "outputId": "8764d745-e10b-4a56-eeef-44a708f1c3dd"
      },
      "execution_count": 4,
      "outputs": [
        {
          "output_type": "display_data",
          "data": {
            "text/plain": [
              "array([[278.730011],\n",
              "       [277.73999 ],\n",
              "       [282.070007],\n",
              "       [283.880005],\n",
              "       [281.      ]])"
            ]
          },
          "metadata": {}
        }
      ]
    },
    {
      "cell_type": "code",
      "source": [
        "sc = MinMaxScaler(feature_range = (0,1))\n",
        "training_scaled = sc.fit_transform(trainset)\n",
        "print(training_scaled[0:5])\n",
        "print(len(training_scaled))"
      ],
      "metadata": {
        "colab": {
          "base_uri": "https://localhost:8080/"
        },
        "id": "TQUYbHAALAHI",
        "outputId": "10d46450-77c0-4dd7-bd54-485f8352fe70"
      },
      "execution_count": 5,
      "outputs": [
        {
          "output_type": "stream",
          "name": "stdout",
          "text": [
            "[[0.1202792 ]\n",
            " [0.11762178]\n",
            " [0.12924443]\n",
            " [0.13410283]\n",
            " [0.12637231]]\n",
            "900\n"
          ]
        }
      ]
    },
    {
      "cell_type": "code",
      "source": [
        "x_train = []\n",
        "y_train = []\n",
        "\n",
        ""
      ],
      "metadata": {
        "id": "Pjr-WiSgLGet"
      },
      "execution_count": 6,
      "outputs": []
    },
    {
      "cell_type": "code",
      "source": [
        "for i in range(60,len(training_scaled)):\n",
        "    x_train.append(training_scaled[i-60:i, 0])\n",
        "    y_train.append(training_scaled[i,0])\n",
        "x_train,y_train = np.array(x_train),np.array(y_train)\n",
        "print(x_train.shape,y_train.shape)"
      ],
      "metadata": {
        "colab": {
          "base_uri": "https://localhost:8080/"
        },
        "id": "VeqLlFnlLGzx",
        "outputId": "1e1c7622-01ac-48d6-e829-657e7cc51542"
      },
      "execution_count": 7,
      "outputs": [
        {
          "output_type": "stream",
          "name": "stdout",
          "text": [
            "(840, 60) (840,)\n"
          ]
        }
      ]
    },
    {
      "cell_type": "code",
      "source": [
        "\n",
        "x_train = np.reshape(x_train, (x_train.shape[0],x_train.shape[1],1))\n",
        "print('(samples, time steps, features) =',x_train.shape)"
      ],
      "metadata": {
        "colab": {
          "base_uri": "https://localhost:8080/"
        },
        "id": "FisMbSTuLG3E",
        "outputId": "0907b13c-69ba-4e06-d992-1a6f3618c239"
      },
      "execution_count": 8,
      "outputs": [
        {
          "output_type": "stream",
          "name": "stdout",
          "text": [
            "(samples, time steps, features) = (840, 60, 1)\n"
          ]
        }
      ]
    },
    {
      "cell_type": "code",
      "source": [
        "regressor = Sequential()\n",
        "regressor.add(LSTM(units = 50,return_sequences = True,input_shape = (x_train.shape[1],1)))\n",
        "regressor.add(Dropout(0.2))\n",
        "regressor.add(LSTM(units = 50,return_sequences = True))\n",
        "regressor.add(Dropout(0.2))\n",
        "regressor.add(LSTM(units = 50,return_sequences = True))\n",
        "regressor.add(Dropout(0.2))\n",
        "regressor.add(LSTM(units = 50))\n",
        "regressor.add(Dropout(0.2))\n",
        "regressor.add(Dense(units = 1))\n"
      ],
      "metadata": {
        "id": "rfANuLPpLlLM"
      },
      "execution_count": 9,
      "outputs": []
    },
    {
      "cell_type": "code",
      "source": [
        "regressor.compile(optimizer = 'adam',loss = 'mean_squared_error')\n",
        "\n",
        "regressor.fit(x_train,y_train,epochs =100, batch_size =100)"
      ],
      "metadata": {
        "colab": {
          "base_uri": "https://localhost:8080/"
        },
        "id": "FeQ9G1DWLlPx",
        "outputId": "d677dc6a-3b82-4bfc-8a0b-680bc16dce91"
      },
      "execution_count": 10,
      "outputs": [
        {
          "output_type": "stream",
          "name": "stdout",
          "text": [
            "Epoch 1/100\n",
            "9/9 [==============================] - 11s 205ms/step - loss: 0.1097\n",
            "Epoch 2/100\n",
            "9/9 [==============================] - 2s 205ms/step - loss: 0.0274\n",
            "Epoch 3/100\n",
            "9/9 [==============================] - 2s 273ms/step - loss: 0.0175\n",
            "Epoch 4/100\n",
            "9/9 [==============================] - 2s 267ms/step - loss: 0.0139\n",
            "Epoch 5/100\n",
            "9/9 [==============================] - 2s 203ms/step - loss: 0.0102\n",
            "Epoch 6/100\n",
            "9/9 [==============================] - 2s 202ms/step - loss: 0.0089\n",
            "Epoch 7/100\n",
            "9/9 [==============================] - 2s 206ms/step - loss: 0.0092\n",
            "Epoch 8/100\n",
            "9/9 [==============================] - 2s 202ms/step - loss: 0.0083\n",
            "Epoch 9/100\n",
            "9/9 [==============================] - 2s 202ms/step - loss: 0.0084\n",
            "Epoch 10/100\n",
            "9/9 [==============================] - 3s 333ms/step - loss: 0.0075\n",
            "Epoch 11/100\n",
            "9/9 [==============================] - 2s 205ms/step - loss: 0.0075\n",
            "Epoch 12/100\n",
            "9/9 [==============================] - 2s 208ms/step - loss: 0.0076\n",
            "Epoch 13/100\n",
            "9/9 [==============================] - 2s 209ms/step - loss: 0.0075\n",
            "Epoch 14/100\n",
            "9/9 [==============================] - 2s 206ms/step - loss: 0.0069\n",
            "Epoch 15/100\n",
            "9/9 [==============================] - 2s 200ms/step - loss: 0.0068\n",
            "Epoch 16/100\n",
            "9/9 [==============================] - 3s 308ms/step - loss: 0.0071\n",
            "Epoch 17/100\n",
            "9/9 [==============================] - 2s 238ms/step - loss: 0.0071\n",
            "Epoch 18/100\n",
            "9/9 [==============================] - 2s 207ms/step - loss: 0.0067\n",
            "Epoch 19/100\n",
            "9/9 [==============================] - 2s 205ms/step - loss: 0.0070\n",
            "Epoch 20/100\n",
            "9/9 [==============================] - 2s 208ms/step - loss: 0.0073\n",
            "Epoch 21/100\n",
            "9/9 [==============================] - 2s 201ms/step - loss: 0.0076\n",
            "Epoch 22/100\n",
            "9/9 [==============================] - 2s 242ms/step - loss: 0.0065\n",
            "Epoch 23/100\n",
            "9/9 [==============================] - 3s 284ms/step - loss: 0.0072\n",
            "Epoch 24/100\n",
            "9/9 [==============================] - 2s 205ms/step - loss: 0.0064\n",
            "Epoch 25/100\n",
            "9/9 [==============================] - 2s 200ms/step - loss: 0.0067\n",
            "Epoch 26/100\n",
            "9/9 [==============================] - 2s 202ms/step - loss: 0.0079\n",
            "Epoch 27/100\n",
            "9/9 [==============================] - 2s 204ms/step - loss: 0.0065\n",
            "Epoch 28/100\n",
            "9/9 [==============================] - 2s 202ms/step - loss: 0.0066\n",
            "Epoch 29/100\n",
            "9/9 [==============================] - 3s 335ms/step - loss: 0.0065\n",
            "Epoch 30/100\n",
            "9/9 [==============================] - 2s 197ms/step - loss: 0.0066\n",
            "Epoch 31/100\n",
            "9/9 [==============================] - 2s 196ms/step - loss: 0.0061\n",
            "Epoch 32/100\n",
            "9/9 [==============================] - 2s 199ms/step - loss: 0.0061\n",
            "Epoch 33/100\n",
            "9/9 [==============================] - 2s 197ms/step - loss: 0.0061\n",
            "Epoch 34/100\n",
            "9/9 [==============================] - 2s 205ms/step - loss: 0.0062\n",
            "Epoch 35/100\n",
            "9/9 [==============================] - 2s 264ms/step - loss: 0.0060\n",
            "Epoch 36/100\n",
            "9/9 [==============================] - 3s 268ms/step - loss: 0.0062\n",
            "Epoch 37/100\n",
            "9/9 [==============================] - 2s 200ms/step - loss: 0.0060\n",
            "Epoch 38/100\n",
            "9/9 [==============================] - 2s 202ms/step - loss: 0.0061\n",
            "Epoch 39/100\n",
            "9/9 [==============================] - 2s 196ms/step - loss: 0.0058\n",
            "Epoch 40/100\n",
            "9/9 [==============================] - 2s 200ms/step - loss: 0.0058\n",
            "Epoch 41/100\n",
            "9/9 [==============================] - 2s 202ms/step - loss: 0.0056\n",
            "Epoch 42/100\n",
            "9/9 [==============================] - 3s 339ms/step - loss: 0.0055\n",
            "Epoch 43/100\n",
            "9/9 [==============================] - 2s 198ms/step - loss: 0.0056\n",
            "Epoch 44/100\n",
            "9/9 [==============================] - 2s 195ms/step - loss: 0.0054\n",
            "Epoch 45/100\n",
            "9/9 [==============================] - 2s 201ms/step - loss: 0.0057\n",
            "Epoch 46/100\n",
            "9/9 [==============================] - 2s 203ms/step - loss: 0.0053\n",
            "Epoch 47/100\n",
            "9/9 [==============================] - 2s 200ms/step - loss: 0.0060\n",
            "Epoch 48/100\n",
            "9/9 [==============================] - 2s 272ms/step - loss: 0.0055\n",
            "Epoch 49/100\n",
            "9/9 [==============================] - 2s 255ms/step - loss: 0.0054\n",
            "Epoch 50/100\n",
            "9/9 [==============================] - 2s 203ms/step - loss: 0.0055\n",
            "Epoch 51/100\n",
            "9/9 [==============================] - 2s 201ms/step - loss: 0.0050\n",
            "Epoch 52/100\n",
            "9/9 [==============================] - 2s 202ms/step - loss: 0.0048\n",
            "Epoch 53/100\n",
            "9/9 [==============================] - 2s 200ms/step - loss: 0.0048\n",
            "Epoch 54/100\n",
            "9/9 [==============================] - 2s 199ms/step - loss: 0.0048\n",
            "Epoch 55/100\n",
            "9/9 [==============================] - 3s 325ms/step - loss: 0.0049\n",
            "Epoch 56/100\n",
            "9/9 [==============================] - 2s 201ms/step - loss: 0.0050\n",
            "Epoch 57/100\n",
            "9/9 [==============================] - 2s 200ms/step - loss: 0.0050\n",
            "Epoch 58/100\n",
            "9/9 [==============================] - 2s 200ms/step - loss: 0.0048\n",
            "Epoch 59/100\n",
            "9/9 [==============================] - 2s 198ms/step - loss: 0.0049\n",
            "Epoch 60/100\n",
            "9/9 [==============================] - 2s 200ms/step - loss: 0.0051\n",
            "Epoch 61/100\n",
            "9/9 [==============================] - 3s 286ms/step - loss: 0.0055\n",
            "Epoch 62/100\n",
            "9/9 [==============================] - 2s 247ms/step - loss: 0.0052\n",
            "Epoch 63/100\n",
            "9/9 [==============================] - 2s 203ms/step - loss: 0.0055\n",
            "Epoch 64/100\n",
            "9/9 [==============================] - 2s 203ms/step - loss: 0.0049\n",
            "Epoch 65/100\n",
            "9/9 [==============================] - 2s 201ms/step - loss: 0.0045\n",
            "Epoch 66/100\n",
            "9/9 [==============================] - 2s 201ms/step - loss: 0.0046\n",
            "Epoch 67/100\n",
            "9/9 [==============================] - 2s 227ms/step - loss: 0.0046\n",
            "Epoch 68/100\n",
            "9/9 [==============================] - 3s 301ms/step - loss: 0.0050\n",
            "Epoch 69/100\n",
            "9/9 [==============================] - 2s 197ms/step - loss: 0.0049\n",
            "Epoch 70/100\n",
            "9/9 [==============================] - 2s 197ms/step - loss: 0.0044\n",
            "Epoch 71/100\n",
            "9/9 [==============================] - 2s 202ms/step - loss: 0.0048\n",
            "Epoch 72/100\n",
            "9/9 [==============================] - 2s 201ms/step - loss: 0.0050\n",
            "Epoch 73/100\n",
            "9/9 [==============================] - 2s 203ms/step - loss: 0.0052\n",
            "Epoch 74/100\n",
            "9/9 [==============================] - 3s 316ms/step - loss: 0.0056\n",
            "Epoch 75/100\n",
            "9/9 [==============================] - 2s 218ms/step - loss: 0.0048\n",
            "Epoch 76/100\n",
            "9/9 [==============================] - 2s 206ms/step - loss: 0.0045\n",
            "Epoch 77/100\n",
            "9/9 [==============================] - 2s 202ms/step - loss: 0.0049\n",
            "Epoch 78/100\n",
            "9/9 [==============================] - 2s 200ms/step - loss: 0.0051\n",
            "Epoch 79/100\n",
            "9/9 [==============================] - 2s 198ms/step - loss: 0.0040\n",
            "Epoch 80/100\n",
            "9/9 [==============================] - 2s 250ms/step - loss: 0.0043\n",
            "Epoch 81/100\n",
            "9/9 [==============================] - 3s 275ms/step - loss: 0.0043\n",
            "Epoch 82/100\n",
            "9/9 [==============================] - 2s 201ms/step - loss: 0.0043\n",
            "Epoch 83/100\n",
            "9/9 [==============================] - 2s 200ms/step - loss: 0.0046\n",
            "Epoch 84/100\n",
            "9/9 [==============================] - 2s 198ms/step - loss: 0.0044\n",
            "Epoch 85/100\n",
            "9/9 [==============================] - 2s 199ms/step - loss: 0.0042\n",
            "Epoch 86/100\n",
            "9/9 [==============================] - 2s 197ms/step - loss: 0.0050\n",
            "Epoch 87/100\n",
            "9/9 [==============================] - 3s 331ms/step - loss: 0.0046\n",
            "Epoch 88/100\n",
            "9/9 [==============================] - 2s 203ms/step - loss: 0.0043\n",
            "Epoch 89/100\n",
            "9/9 [==============================] - 2s 200ms/step - loss: 0.0046\n",
            "Epoch 90/100\n",
            "9/9 [==============================] - 2s 195ms/step - loss: 0.0044\n",
            "Epoch 91/100\n",
            "9/9 [==============================] - 2s 197ms/step - loss: 0.0047\n",
            "Epoch 92/100\n",
            "9/9 [==============================] - 2s 200ms/step - loss: 0.0047\n",
            "Epoch 93/100\n",
            "9/9 [==============================] - 2s 255ms/step - loss: 0.0045\n",
            "Epoch 94/100\n",
            "9/9 [==============================] - 3s 271ms/step - loss: 0.0041\n",
            "Epoch 95/100\n",
            "9/9 [==============================] - 2s 197ms/step - loss: 0.0043\n",
            "Epoch 96/100\n",
            "9/9 [==============================] - 2s 200ms/step - loss: 0.0040\n",
            "Epoch 97/100\n",
            "9/9 [==============================] - 2s 198ms/step - loss: 0.0043\n",
            "Epoch 98/100\n",
            "9/9 [==============================] - 2s 203ms/step - loss: 0.0044\n",
            "Epoch 99/100\n",
            "9/9 [==============================] - 2s 198ms/step - loss: 0.0043\n",
            "Epoch 100/100\n",
            "9/9 [==============================] - 3s 339ms/step - loss: 0.0047\n"
          ]
        },
        {
          "output_type": "execute_result",
          "data": {
            "text/plain": [
              "<keras.callbacks.History at 0x7c0d4038fca0>"
            ]
          },
          "metadata": {},
          "execution_count": 10
        }
      ]
    },
    {
      "cell_type": "code",
      "source": [
        "real_stock_price = dataset_test.iloc[:,1:2].values\n",
        "dataset_total = pd.concat((dataset_train['Open'],dataset_test['Open']),axis = 0)"
      ],
      "metadata": {
        "id": "hyMX9OCQLlSj"
      },
      "execution_count": 11,
      "outputs": []
    },
    {
      "cell_type": "code",
      "source": [
        "print(len(dataset_total),len(dataset_test))\n",
        "inputs = dataset_total[len(dataset_total)-len(dataset_test)-60:].values\n",
        "print(inputs.shape)"
      ],
      "metadata": {
        "colab": {
          "base_uri": "https://localhost:8080/"
        },
        "id": "6yCdYK4OLlVx",
        "outputId": "2558de31-37a5-48e8-bfa4-3c2943643622"
      },
      "execution_count": 12,
      "outputs": [
        {
          "output_type": "stream",
          "name": "stdout",
          "text": [
            "1000 100\n",
            "(160,)\n"
          ]
        }
      ]
    },
    {
      "cell_type": "code",
      "source": [
        "inputs = inputs.reshape(-1,1)\n",
        "print(inputs.shape)\n",
        "\n",
        "#sc = MinMaxScaler(feature_range = (0,1))\n",
        "inputs = sc.transform(inputs)\n",
        "print(inputs.shape)\n",
        "\n",
        ""
      ],
      "metadata": {
        "colab": {
          "base_uri": "https://localhost:8080/"
        },
        "id": "KvbDm-jULlZO",
        "outputId": "3be85c4f-e71a-4da6-c1b3-b143c27f90dc"
      },
      "execution_count": 13,
      "outputs": [
        {
          "output_type": "stream",
          "name": "stdout",
          "text": [
            "(160, 1)\n",
            "(160, 1)\n"
          ]
        }
      ]
    },
    {
      "cell_type": "code",
      "source": [
        "x_test = []\n",
        "for i in range(60,len(inputs)):\n",
        "    x_test.append(inputs[i-60:i,0])\n",
        "x_test = np.array(x_test)\n",
        "print(x_test.shape)\n",
        "\n",
        "x_test = np.reshape(x_test, (x_test.shape[0],x_test.shape[1],1))\n",
        "print(x_test.shape)"
      ],
      "metadata": {
        "colab": {
          "base_uri": "https://localhost:8080/"
        },
        "id": "PG0CVb3lNKeo",
        "outputId": "39fdd1ea-ccf7-40b3-d307-3901c5d40c07"
      },
      "execution_count": 14,
      "outputs": [
        {
          "output_type": "stream",
          "name": "stdout",
          "text": [
            "(100, 60)\n",
            "(100, 60, 1)\n"
          ]
        }
      ]
    },
    {
      "cell_type": "code",
      "source": [
        "predicted_price = regressor.predict(x_test)"
      ],
      "metadata": {
        "colab": {
          "base_uri": "https://localhost:8080/"
        },
        "id": "pWRl5RAhNKg-",
        "outputId": "407d1a5a-b52a-4030-c31d-fa4d38b7082d"
      },
      "execution_count": 15,
      "outputs": [
        {
          "output_type": "stream",
          "name": "stdout",
          "text": [
            "4/4 [==============================] - 2s 31ms/step\n"
          ]
        }
      ]
    },
    {
      "cell_type": "code",
      "source": [
        "predicted_price = sc.inverse_transform(predicted_price)\n",
        "print(predicted_price.shape)\n",
        ""
      ],
      "metadata": {
        "colab": {
          "base_uri": "https://localhost:8080/"
        },
        "id": "B_dKNwtQNKjJ",
        "outputId": "6839fe4e-82ae-47f6-938e-ac34f7a7c1c4"
      },
      "execution_count": 16,
      "outputs": [
        {
          "output_type": "stream",
          "name": "stdout",
          "text": [
            "(100, 1)\n"
          ]
        }
      ]
    },
    {
      "cell_type": "code",
      "source": [
        "plt.plot(real_stock_price,color = 'red', label = 'Real Price')\n",
        "plt.plot(predicted_price, color = 'blue', label = 'Predicted Price')\n",
        "plt.title('NFLX Stock Price Prediction')\n",
        "plt.xlabel('Time')\n",
        "plt.ylabel('NFLX Stock Price')\n",
        "plt.xlim(0,100)\n",
        "plt.ylim(0,1200)\n",
        "plt.legend()\n",
        "plt.show()\n",
        ""
      ],
      "metadata": {
        "colab": {
          "base_uri": "https://localhost:8080/",
          "height": 472
        },
        "id": "3bt3dNLFNKk_",
        "outputId": "392378e6-5b48-40ac-dc7f-d2c33a2cab04"
      },
      "execution_count": 17,
      "outputs": [
        {
          "output_type": "display_data",
          "data": {
            "text/plain": [
              "<Figure size 640x480 with 1 Axes>"
            ],
            "image/png": "[encoded data removed]"
          },
          "metadata": {}
        }
      ]
    },
    {
      "cell_type": "code",
      "source": [
        "inputs = np.array(dataset_train['Open'][-60:])\n",
        "new_predicted_price=[]\n",
        "for i in range(100):\n",
        "    x = np.reshape(inputs, (1,60,1))\n",
        "    pred = regressor.predict(x)\n",
        "    inputs = np.append(inputs, pred)\n",
        "    inputs = inputs[1:]\n",
        "    new_predicted_price+=[pred.reshape(-1)]"
      ],
      "metadata": {
        "colab": {
          "base_uri": "https://localhost:8080/"
        },
        "id": "Tyrow88rNKoh",
        "outputId": "799a0396-dc9e-41eb-c17c-7f5704cc2f0f"
      },
      "execution_count": 18,
      "outputs": [
        {
          "output_type": "stream",
          "name": "stdout",
          "text": [
            "1/1 [==============================] - 0s 56ms/step\n",
            "1/1 [==============================] - 0s 67ms/step\n",
            "1/1 [==============================] - 0s 54ms/step\n",
            "1/1 [==============================] - 0s 54ms/step\n",
            "1/1 [==============================] - 0s 69ms/step\n",
            "1/1 [==============================] - 0s 52ms/step\n",
            "1/1 [==============================] - 0s 50ms/step\n",
            "1/1 [==============================] - 0s 50ms/step\n",
            "1/1 [==============================] - 0s 50ms/step\n",
            "1/1 [==============================] - 0s 56ms/step\n",
            "1/1 [==============================] - 0s 55ms/step\n",
            "1/1 [==============================] - 0s 65ms/step\n",
            "1/1 [==============================] - 0s 56ms/step\n",
            "1/1 [==============================] - 0s 59ms/step\n",
            "1/1 [==============================] - 0s 53ms/step\n",
            "1/1 [==============================] - 0s 54ms/step\n",
            "1/1 [==============================] - 0s 63ms/step\n",
            "1/1 [==============================] - 0s 76ms/step\n",
            "1/1 [==============================] - 0s 70ms/step\n",
            "1/1 [==============================] - 0s 58ms/step\n",
            "1/1 [==============================] - 0s 34ms/step\n",
            "1/1 [==============================] - 0s 41ms/step\n",
            "1/1 [==============================] - 0s 33ms/step\n",
            "1/1 [==============================] - 0s 33ms/step\n",
            "1/1 [==============================] - 0s 32ms/step\n",
            "1/1 [==============================] - 0s 36ms/step\n",
            "1/1 [==============================] - 0s 35ms/step\n",
            "1/1 [==============================] - 0s 30ms/step\n",
            "1/1 [==============================] - 0s 39ms/step\n",
            "1/1 [==============================] - 0s 34ms/step\n",
            "1/1 [==============================] - 0s 32ms/step\n",
            "1/1 [==============================] - 0s 34ms/step\n",
            "1/1 [==============================] - 0s 32ms/step\n",
            "1/1 [==============================] - 0s 40ms/step\n",
            "1/1 [==============================] - 0s 35ms/step\n",
            "1/1 [==============================] - 0s 33ms/step\n",
            "1/1 [==============================] - 0s 30ms/step\n",
            "1/1 [==============================] - 0s 42ms/step\n",
            "1/1 [==============================] - 0s 36ms/step\n",
            "1/1 [==============================] - 0s 33ms/step\n",
            "1/1 [==============================] - 0s 37ms/step\n",
            "1/1 [==============================] - 0s 34ms/step\n",
            "1/1 [==============================] - 0s 32ms/step\n",
            "1/1 [==============================] - 0s 32ms/step\n",
            "1/1 [==============================] - 0s 31ms/step\n",
            "1/1 [==============================] - 0s 32ms/step\n",
            "1/1 [==============================] - 0s 35ms/step\n",
            "1/1 [==============================] - 0s 36ms/step\n",
            "1/1 [==============================] - 0s 34ms/step\n",
            "1/1 [==============================] - 0s 41ms/step\n",
            "1/1 [==============================] - 0s 34ms/step\n",
            "1/1 [==============================] - 0s 32ms/step\n",
            "1/1 [==============================] - 0s 32ms/step\n",
            "1/1 [==============================] - 0s 34ms/step\n",
            "1/1 [==============================] - 0s 33ms/step\n",
            "1/1 [==============================] - 0s 35ms/step\n",
            "1/1 [==============================] - 0s 35ms/step\n",
            "1/1 [==============================] - 0s 37ms/step\n",
            "1/1 [==============================] - 0s 49ms/step\n",
            "1/1 [==============================] - 0s 33ms/step\n",
            "1/1 [==============================] - 0s 33ms/step\n",
            "1/1 [==============================] - 0s 33ms/step\n",
            "1/1 [==============================] - 0s 37ms/step\n",
            "1/1 [==============================] - 0s 37ms/step\n",
            "1/1 [==============================] - 0s 35ms/step\n",
            "1/1 [==============================] - 0s 38ms/step\n",
            "1/1 [==============================] - 0s 33ms/step\n",
            "1/1 [==============================] - 0s 33ms/step\n",
            "1/1 [==============================] - 0s 38ms/step\n",
            "1/1 [==============================] - 0s 33ms/step\n",
            "1/1 [==============================] - 0s 43ms/step\n",
            "1/1 [==============================] - 0s 37ms/step\n",
            "1/1 [==============================] - 0s 31ms/step\n",
            "1/1 [==============================] - 0s 32ms/step\n",
            "1/1 [==============================] - 0s 44ms/step\n",
            "1/1 [==============================] - 0s 35ms/step\n",
            "1/1 [==============================] - 0s 37ms/step\n",
            "1/1 [==============================] - 0s 41ms/step\n",
            "1/1 [==============================] - 0s 33ms/step\n",
            "1/1 [==============================] - 0s 36ms/step\n",
            "1/1 [==============================] - 0s 34ms/step\n",
            "1/1 [==============================] - 0s 34ms/step\n",
            "1/1 [==============================] - 0s 46ms/step\n",
            "1/1 [==============================] - 0s 34ms/step\n",
            "1/1 [==============================] - 0s 37ms/step\n",
            "1/1 [==============================] - 0s 33ms/step\n",
            "1/1 [==============================] - 0s 35ms/step\n",
            "1/1 [==============================] - 0s 42ms/step\n",
            "1/1 [==============================] - 0s 44ms/step\n",
            "1/1 [==============================] - 0s 36ms/step\n",
            "1/1 [==============================] - 0s 39ms/step\n",
            "1/1 [==============================] - 0s 33ms/step\n",
            "1/1 [==============================] - 0s 34ms/step\n",
            "1/1 [==============================] - 0s 37ms/step\n",
            "1/1 [==============================] - 0s 35ms/step\n",
            "1/1 [==============================] - 0s 40ms/step\n",
            "1/1 [==============================] - 0s 32ms/step\n",
            "1/1 [==============================] - 0s 31ms/step\n",
            "1/1 [==============================] - 0s 40ms/step\n",
            "1/1 [==============================] - 0s 34ms/step\n"
          ]
        }
      ]
    },
    {
      "cell_type": "code",
      "source": [
        "new_predicted_price = sc.inverse_transform(np.array(new_predicted_price))\n",
        "print(new_predicted_price.shape)"
      ],
      "metadata": {
        "colab": {
          "base_uri": "https://localhost:8080/"
        },
        "id": "hOMSDrzdNnwn",
        "outputId": "9a895621-7a29-402e-e695-99248c309ae6"
      },
      "execution_count": 19,
      "outputs": [
        {
          "output_type": "stream",
          "name": "stdout",
          "text": [
            "(100, 1)\n"
          ]
        }
      ]
    },
    {
      "cell_type": "code",
      "source": [
        "plt.plot(real_stock_price,color = 'red', label = 'Real Price')\n",
        "plt.plot(new_predicted_price, color = 'green', label = 'New Predicted Price')\n",
        "plt.title('NFLX Stock Price Prediction')\n",
        "plt.xlabel('Time')\n",
        "plt.ylabel('NFLX Stock Price')\n",
        "plt.xlim(0,100)\n",
        "plt.ylim(0,1200)\n",
        "plt.legend()\n",
        "plt.show()"
      ],
      "metadata": {
        "colab": {
          "base_uri": "https://localhost:8080/",
          "height": 472
        },
        "id": "5bkYQMSvNn0L",
        "outputId": "c0e7aba2-55b1-4b26-df87-dbae592ecc06"
      },
      "execution_count": 20,
      "outputs": [
        {
          "output_type": "display_data",
          "data": {
            "text/plain": [
              "<Figure size 640x480 with 1 Axes>"
            ],
            "image/png": "[encoded data removed]"
          },
          "metadata": {}
        }
      ]
    }
  ]
}